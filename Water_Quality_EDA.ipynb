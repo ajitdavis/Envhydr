{
 "cells": [
  {
   "cell_type": "code",
   "execution_count": 1,
   "metadata": {},
   "outputs": [],
   "source": [
    "import pandas as pd\n",
    "import numpy as np\n",
    "import matplotlib.pyplot as plt\n",
    "\n",
    "pd.set_option('display.max_rows', 2000)\n",
    "pd.set_option('display.max_columns', 500)\n"
   ]
  },
  {
   "cell_type": "code",
   "execution_count": 2,
   "metadata": {},
   "outputs": [
    {
     "name": "stderr",
     "output_type": "stream",
     "text": [
      "/Users/mauriekathan/anaconda3/envs/dsi/lib/python3.6/site-packages/IPython/core/interactiveshell.py:3020: DtypeWarning: Columns (10,12,13,16,17,18,22,24,28,30,32,37,43,49,52,54,58,60,68,70,74,77,79,80,82,84,86,88,90,92,100,101,102,103,104,106,108,119,121,124,125,126,127,133,142,144,146,148,150,152,158,160,162,164,166,168,170,176,179,181,185,187,188,194) have mixed types. Specify dtype option on import or set low_memory=False.\n",
      "  interactivity=interactivity, compiler=compiler, result=result)\n"
     ]
    }
   ],
   "source": [
    "#importing dataset\n",
    "water_qual = pd.read_csv('./Data/cmcWaterQualitySamples.csv',)"
   ]
  },
  {
   "cell_type": "code",
   "execution_count": 3,
   "metadata": {},
   "outputs": [
    {
     "name": "stdout",
     "output_type": "stream",
     "text": [
      "<class 'pandas.core.frame.DataFrame'>\n",
      "RangeIndex: 10703 entries, 0 to 10702\n",
      "Columns: 208 entries, Date to Comments\n",
      "dtypes: float64(89), int64(1), object(118)\n",
      "memory usage: 17.0+ MB\n"
     ]
    }
   ],
   "source": [
    "#reviewing data\n",
    "water_qual.info()"
   ]
  },
  {
   "cell_type": "code",
   "execution_count": 4,
   "metadata": {},
   "outputs": [
    {
     "data": {
      "text/plain": [
       "array(['Antietam Watershed Association', 'Friends of the Rappahannock',\n",
       "       'Chesterfield WaterTrends', 'Alliance for the Chesapeake Bay',\n",
       "       'Henrico Area Water Quality Samplers', 'Caledon State Park',\n",
       "       'Riverine Master Naturalists', 'Reedy Creek Coalition',\n",
       "       \"Chesapeake Bay Governor's School\", 'Reston Association',\n",
       "       'James River Association', 'United States National Arboretum D.C.',\n",
       "       'Anacostia Riverkeeper',\n",
       "       'Peninsula Chapter Virginia Master Naturalists',\n",
       "       'LeTort Regional Authority',\n",
       "       'Conodoguinet Creek Watershed Association',\n",
       "       'Middle Spring Watershed Association',\n",
       "       'Bradford County Volunteer Monitors', \"God's Country Water Dogs\",\n",
       "       'Big Spring Watershed Association', 'Nanticoke Watershed Alliance',\n",
       "       'Cumberland Valley Trout Unlimited', 'Chesapeake Bay Foundation',\n",
       "       'Spa Creek Conservancy'], dtype=object)"
      ]
     },
     "execution_count": 4,
     "metadata": {},
     "output_type": "execute_result"
    }
   ],
   "source": [
    "#reviewing all the data that has been added\n",
    "water_qual.GroupName.unique()"
   ]
  },
  {
   "cell_type": "code",
   "execution_count": 7,
   "metadata": {
    "scrolled": false
   },
   "outputs": [
    {
     "data": {
      "text/plain": [
       "Date                          0\n",
       "Time                          0\n",
       "StationName                   0\n",
       "StationCode                   0\n",
       "Latitude                      0\n",
       "Longitude                     0\n",
       "GroupName                     0\n",
       "SampleId                      0\n",
       "SampleDepth                 996\n",
       "Dissolved oxygen Units     2950\n",
       "Dissolved oxygen Tier      2950\n",
       "Dissolved oxygen Code      2950\n",
       "Dissolved oxygen           2959\n",
       "Water temperature Tier     3281\n",
       "Water temperature Code     3281\n",
       "Water temperature Units    3281\n",
       "Water temperature          3291\n",
       "Water Clarity Code         4495\n",
       "Water Clarity Tier         4495\n",
       "Water Clarity Units        4495\n",
       "dtype: int64"
      ]
     },
     "execution_count": 7,
     "metadata": {},
     "output_type": "execute_result"
    }
   ],
   "source": [
    "#looking number of nulls by column\n",
    "water_qual.isnull().sum().sort_values(ascending=True).head(20)"
   ]
  },
  {
   "cell_type": "code",
   "execution_count": 8,
   "metadata": {},
   "outputs": [
    {
     "data": {
      "text/plain": [
       "Total Phosphorus Problem                     10703\n",
       "Bacteria Incubation Time Units               10703\n",
       "Total Nitrogen Problem                       10703\n",
       "Total Nitrogen Blank Problem                 10703\n",
       "Total Kjeldahl Nitrogen Problem              10703\n",
       "Total Dissolved Solids Qualifier             10703\n",
       "Total Suspended Solids Problem               10703\n",
       "Total Dissolved Solids Problem               10703\n",
       "Bacteria (E.Coli) Blank Problem              10703\n",
       "Total Phosphorus Blank Problem               10703\n",
       "Chlorophyll a Qualifier                      10703\n",
       "Ammonia-nitrogen Qualifier                   10703\n",
       "Salinity Qualifier                           10703\n",
       "pH Qualifier                                 10703\n",
       "Ammonia-nitrogen Problem                     10703\n",
       "Bacteria Incubation Temperature Qualifier    10703\n",
       "Orthophosphate Qualifier                     10703\n",
       "Orthophosphate Problem                       10703\n",
       "Total Depth Qualifier                        10703\n",
       "Chlorophyll a Problem                        10703\n",
       "dtype: int64"
      ]
     },
     "execution_count": 8,
     "metadata": {},
     "output_type": "execute_result"
    }
   ],
   "source": [
    "water_qual.isnull().sum().sort_values(ascending=True).tail(20)"
   ]
  },
  {
   "cell_type": "markdown",
   "metadata": {},
   "source": [
    "There are tons of nulls in a lot of different columns. In order to get a better sense of how many columns are useful I filter by average null rows."
   ]
  },
  {
   "cell_type": "code",
   "execution_count": 9,
   "metadata": {},
   "outputs": [],
   "source": [
    "#filtering to columns where the average number of rows that are null is less than 60%\n",
    "water_qual1 = water_qual.loc[:, water_qual.isnull().mean() < .60]"
   ]
  },
  {
   "cell_type": "code",
   "execution_count": 10,
   "metadata": {},
   "outputs": [],
   "source": [
    "#dropping null rows\n",
    "water_qual_1000 = water_qual1.dropna()"
   ]
  },
  {
   "cell_type": "code",
   "execution_count": 11,
   "metadata": {},
   "outputs": [
    {
     "name": "stdout",
     "output_type": "stream",
     "text": [
      "<class 'pandas.core.frame.DataFrame'>\n",
      "Int64Index: 1067 entries, 536 to 10698\n",
      "Data columns (total 26 columns):\n",
      "Date                        1067 non-null object\n",
      "Time                        1067 non-null object\n",
      "StationName                 1067 non-null object\n",
      "StationCode                 1067 non-null object\n",
      "Latitude                    1067 non-null float64\n",
      "Longitude                   1067 non-null float64\n",
      "GroupName                   1067 non-null object\n",
      "SampleId                    1067 non-null int64\n",
      "SampleDepth                 1067 non-null float64\n",
      "Dissolved oxygen            1067 non-null float64\n",
      "Dissolved oxygen Code       1067 non-null object\n",
      "Dissolved oxygen Tier       1067 non-null object\n",
      "Dissolved oxygen Units      1067 non-null object\n",
      "pH                          1067 non-null float64\n",
      "pH Code                     1067 non-null object\n",
      "pH Tier                     1067 non-null object\n",
      "pH Units                    1067 non-null object\n",
      "Water Clarity               1067 non-null float64\n",
      "Water Clarity Code          1067 non-null object\n",
      "Water Clarity Tier          1067 non-null object\n",
      "Water Clarity Units         1067 non-null object\n",
      "Water temperature           1067 non-null float64\n",
      "Water temperature Code      1067 non-null object\n",
      "Water temperature Tier      1067 non-null object\n",
      "Water temperature Units     1067 non-null object\n",
      "Weather Conditions Today    1067 non-null object\n",
      "dtypes: float64(7), int64(1), object(18)\n",
      "memory usage: 225.1+ KB\n"
     ]
    }
   ],
   "source": [
    "#look at how we have.\n",
    "water_qual_1000.info()"
   ]
  },
  {
   "cell_type": "code",
   "execution_count": 12,
   "metadata": {},
   "outputs": [],
   "source": [
    "#filtering to columns where the average number of rows that are null is less than 50%\n",
    "water_qual2 = water_qual.loc[:, water_qual.isnull().mean() < .50]"
   ]
  },
  {
   "cell_type": "code",
   "execution_count": 13,
   "metadata": {},
   "outputs": [],
   "source": [
    "water_qual_5000 = water_qual2.dropna()"
   ]
  },
  {
   "cell_type": "code",
   "execution_count": 15,
   "metadata": {},
   "outputs": [
    {
     "name": "stdout",
     "output_type": "stream",
     "text": [
      "<class 'pandas.core.frame.DataFrame'>\n",
      "Int64Index: 5142 entries, 0 to 10698\n",
      "Data columns (total 21 columns):\n",
      "Date                       5142 non-null object\n",
      "Time                       5142 non-null object\n",
      "StationName                5142 non-null object\n",
      "StationCode                5142 non-null object\n",
      "Latitude                   5142 non-null float64\n",
      "Longitude                  5142 non-null float64\n",
      "GroupName                  5142 non-null object\n",
      "SampleId                   5142 non-null int64\n",
      "SampleDepth                5142 non-null float64\n",
      "Dissolved oxygen           5142 non-null float64\n",
      "Dissolved oxygen Code      5142 non-null object\n",
      "Dissolved oxygen Tier      5142 non-null object\n",
      "Dissolved oxygen Units     5142 non-null object\n",
      "Water Clarity              5142 non-null float64\n",
      "Water Clarity Code         5142 non-null object\n",
      "Water Clarity Tier         5142 non-null object\n",
      "Water Clarity Units        5142 non-null object\n",
      "Water temperature          5142 non-null float64\n",
      "Water temperature Code     5142 non-null object\n",
      "Water temperature Tier     5142 non-null object\n",
      "Water temperature Units    5142 non-null object\n",
      "dtypes: float64(6), int64(1), object(14)\n",
      "memory usage: 883.8+ KB\n"
     ]
    }
   ],
   "source": [
    "water_qual_5000.info()"
   ]
  },
  {
   "cell_type": "code",
   "execution_count": 16,
   "metadata": {},
   "outputs": [],
   "source": [
    "#filtering to columns where the average number of rows that are null is less than 55%\n",
    "water_qual3 = water_qual.loc[:, water_qual.isnull().mean() < .55]"
   ]
  },
  {
   "cell_type": "code",
   "execution_count": 17,
   "metadata": {},
   "outputs": [],
   "source": [
    "water_qual_2000 = water_qual3.dropna()"
   ]
  },
  {
   "cell_type": "code",
   "execution_count": 18,
   "metadata": {},
   "outputs": [
    {
     "name": "stdout",
     "output_type": "stream",
     "text": [
      "<class 'pandas.core.frame.DataFrame'>\n",
      "Int64Index: 2060 entries, 536 to 10698\n",
      "Data columns (total 22 columns):\n",
      "Date                        2060 non-null object\n",
      "Time                        2060 non-null object\n",
      "StationName                 2060 non-null object\n",
      "StationCode                 2060 non-null object\n",
      "Latitude                    2060 non-null float64\n",
      "Longitude                   2060 non-null float64\n",
      "GroupName                   2060 non-null object\n",
      "SampleId                    2060 non-null int64\n",
      "SampleDepth                 2060 non-null float64\n",
      "Dissolved oxygen            2060 non-null float64\n",
      "Dissolved oxygen Code       2060 non-null object\n",
      "Dissolved oxygen Tier       2060 non-null object\n",
      "Dissolved oxygen Units      2060 non-null object\n",
      "Water Clarity               2060 non-null float64\n",
      "Water Clarity Code          2060 non-null object\n",
      "Water Clarity Tier          2060 non-null object\n",
      "Water Clarity Units         2060 non-null object\n",
      "Water temperature           2060 non-null float64\n",
      "Water temperature Code      2060 non-null object\n",
      "Water temperature Tier      2060 non-null object\n",
      "Water temperature Units     2060 non-null object\n",
      "Weather Conditions Today    2060 non-null object\n",
      "dtypes: float64(6), int64(1), object(15)\n",
      "memory usage: 370.2+ KB\n"
     ]
    }
   ],
   "source": [
    "water_qual_2000.info()"
   ]
  },
  {
   "cell_type": "markdown",
   "metadata": {},
   "source": [
    "We only gain Weather Conditions with the 55% but lose 3000 rows so I decided to move forward with the 50% dataset"
   ]
  },
  {
   "cell_type": "code",
   "execution_count": null,
   "metadata": {},
   "outputs": [],
   "source": []
  }
 ],
 "metadata": {
  "kernelspec": {
   "display_name": "Python 3",
   "language": "python",
   "name": "python3"
  },
  "language_info": {
   "codemirror_mode": {
    "name": "ipython",
    "version": 3
   },
   "file_extension": ".py",
   "mimetype": "text/x-python",
   "name": "python",
   "nbconvert_exporter": "python",
   "pygments_lexer": "ipython3",
   "version": "3.8.8"
  }
 },
 "nbformat": 4,
 "nbformat_minor": 2
}
